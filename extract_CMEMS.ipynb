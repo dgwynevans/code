{
 "cells": [
  {
   "cell_type": "code",
   "execution_count": 2,
   "metadata": {},
   "outputs": [],
   "source": [
    "import xarray as xr\n",
    "import numpy as np\n",
    "import datetime"
   ]
  },
  {
   "cell_type": "markdown",
   "metadata": {},
   "source": [
    "### Use xarray and buildin Dask functionality to load the entire dateset"
   ]
  },
  {
   "cell_type": "code",
   "execution_count": 3,
   "metadata": {},
   "outputs": [],
   "source": [
    "sla_dir = '/Users/dge105/Dropbox/_MerMEEDdata/data/external/CMEMS_SeaLevel_rep/*.nc'\n",
    "\n",
    "dset = xr.open_mfdataset(sla_dir)\n",
    "\n",
    "lon_plt = [275, 360]\n",
    "lat_plt = [15, 65]\n",
    "atl_sla = dset.sla.sel(longitude=slice(lon_plt[0],lon_plt[1]), latitude=slice(lat_plt[0],lat_plt[1]))"
   ]
  },
  {
   "cell_type": "markdown",
   "metadata": {},
   "source": [
    "### Save the concatentated dataset to a *.nc file"
   ]
  },
  {
   "cell_type": "code",
   "execution_count": 5,
   "metadata": {},
   "outputs": [],
   "source": [
    "atl_sla.to_netcdf('/Users/dge105/Dropbox/_MerMEEDdata/data/external/CMEMS_SeaLevel_rep_atl.nc')"
   ]
  }
 ],
 "metadata": {
  "kernelspec": {
   "display_name": "Python 3",
   "language": "python",
   "name": "python3"
  },
  "language_info": {
   "codemirror_mode": {
    "name": "ipython",
    "version": 3
   },
   "file_extension": ".py",
   "mimetype": "text/x-python",
   "name": "python",
   "nbconvert_exporter": "python",
   "pygments_lexer": "ipython3",
   "version": "3.7.1"
  }
 },
 "nbformat": 4,
 "nbformat_minor": 2
}
